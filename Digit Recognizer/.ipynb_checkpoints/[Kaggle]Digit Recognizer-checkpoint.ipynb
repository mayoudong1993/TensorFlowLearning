{
 "cells": [
  {
   "cell_type": "code",
   "execution_count": 3,
   "metadata": {},
   "outputs": [],
   "source": [
    "import numpy as np\n",
    "import h5py\n",
    "import matplotlib.pyplot as plt\n",
    "import pandas as pd\n",
    "import tensorflow as tf"
   ]
  },
  {
   "cell_type": "markdown",
   "metadata": {},
   "source": [
    "Load Data"
   ]
  },
  {
   "cell_type": "code",
   "execution_count": 4,
   "metadata": {},
   "outputs": [],
   "source": [
    "train = pd.read_csv('~/Downloads/train.csv')\n",
    "X_test = pd.read_csv('~/Downloads/test.csv')"
   ]
  },
  {
   "cell_type": "code",
   "execution_count": 5,
   "metadata": {},
   "outputs": [],
   "source": [
    "Y_train = train[\"label\"]\n",
    "X_train = train.drop(labels = [\"label\"] ,axis = 1)"
   ]
  },
  {
   "cell_type": "code",
   "execution_count": 6,
   "metadata": {},
   "outputs": [],
   "source": [
    "X_train = X_train.values.reshape([-1, 28, 28, 1])\n",
    "Xt = X_test.values.reshape([-1, 28, 28, 1])"
   ]
  },
  {
   "cell_type": "code",
   "execution_count": 7,
   "metadata": {},
   "outputs": [
    {
     "name": "stdout",
     "output_type": "stream",
     "text": [
      "(42000, 28, 28, 1)\n",
      "(28000, 28, 28, 1)\n"
     ]
    }
   ],
   "source": [
    "print(X_train.shape)\n",
    "print(Xt.shape)"
   ]
  },
  {
   "cell_type": "code",
   "execution_count": 8,
   "metadata": {},
   "outputs": [],
   "source": [
    "def convert_to_one_hot(Y, C):\n",
    "    Y = np.eye(C)[Y.reshape(-1)].T\n",
    "    return Y"
   ]
  },
  {
   "cell_type": "code",
   "execution_count": 9,
   "metadata": {},
   "outputs": [
    {
     "name": "stderr",
     "output_type": "stream",
     "text": [
      "/Users/mayoudong/anaconda/lib/python3.6/site-packages/ipykernel_launcher.py:2: FutureWarning: reshape is deprecated and will raise in a subsequent release. Please use .values.reshape(...) instead\n",
      "  \n"
     ]
    },
    {
     "data": {
      "text/plain": [
       "array([[0., 1., 0., ..., 0., 0., 0.],\n",
       "       [1., 0., 0., ..., 0., 0., 0.],\n",
       "       [0., 1., 0., ..., 0., 0., 0.],\n",
       "       ...,\n",
       "       [0., 0., 0., ..., 1., 0., 0.],\n",
       "       [0., 0., 0., ..., 0., 0., 0.],\n",
       "       [0., 0., 0., ..., 0., 0., 1.]])"
      ]
     },
     "execution_count": 9,
     "metadata": {},
     "output_type": "execute_result"
    }
   ],
   "source": [
    "Y_train = convert_to_one_hot(Y_train, 10).T\n",
    "Y_train"
   ]
  },
  {
   "cell_type": "code",
   "execution_count": 10,
   "metadata": {},
   "outputs": [],
   "source": [
    "X_train = X_train / 255.0"
   ]
  },
  {
   "cell_type": "code",
   "execution_count": 11,
   "metadata": {
    "collapsed": true
   },
   "outputs": [],
   "source": [
    "def create_placeholders(n_H0, n_W0, n_C0, n_y):\n",
    "    \"\"\"\n",
    "    Creates the placeholders for the tensorflow session.\n",
    "    \n",
    "    Arguments:\n",
    "    n_H0 -- scalar, height of an input image\n",
    "    n_W0 -- scalar, width of an input image\n",
    "    n_C0 -- scalar, number of channels of the input\n",
    "    n_y -- scalar, number of classes\n",
    "        \n",
    "    Returns:\n",
    "    X -- placeholder for the data input, of shape [None, n_H0, n_W0, n_C0] and dtype \"float\"\n",
    "    Y -- placeholder for the input labels, of shape [None, n_y] and dtype \"float\"\n",
    "    \"\"\"\n",
    "\n",
    "    ### START CODE HERE ### (≈2 lines)\n",
    "    X = tf.placeholder(tf.float32, shape=(None, n_H0, n_W0, n_C0))\n",
    "    Y = tf.placeholder(tf.float32, shape=(None, n_y))\n",
    "    ### END CODE HERE ###\n",
    "    \n",
    "    return X, Y"
   ]
  },
  {
   "cell_type": "code",
   "execution_count": 12,
   "metadata": {
    "collapsed": true
   },
   "outputs": [],
   "source": [
    "def create_placeholders(n_H0, n_W0, n_C0, n_y):\n",
    "    \"\"\"\n",
    "    Creates the placeholders for the tensorflow session.\n",
    "    \n",
    "    Arguments:\n",
    "    n_H0 -- scalar, height of an input image\n",
    "    n_W0 -- scalar, width of an input image\n",
    "    n_C0 -- scalar, number of channels of the input\n",
    "    n_y -- scalar, number of classes\n",
    "        \n",
    "    Returns:\n",
    "    X -- placeholder for the data input, of shape [None, n_H0, n_W0, n_C0] and dtype \"float\"\n",
    "    Y -- placeholder for the input labels, of shape [None, n_y] and dtype \"float\"\n",
    "    \"\"\"\n",
    "\n",
    "    ### START CODE HERE ### (≈2 lines)\n",
    "    X = tf.placeholder(tf.float32, shape=(None, n_H0, n_W0, n_C0))\n",
    "    Y = tf.placeholder(tf.float32, shape=(None, n_y))\n",
    "    ### END CODE HERE ###\n",
    "    \n",
    "    return X, Y"
   ]
  },
  {
   "cell_type": "code",
   "execution_count": 13,
   "metadata": {
    "collapsed": true
   },
   "outputs": [],
   "source": [
    "def initialize_parameters():\n",
    "    \"\"\"\n",
    "    Initializes weight parameters to build a neural network with tensorflow. The shapes are:\n",
    "                        W1 : [4, 4, 3, 8]\n",
    "                        W2 : [2, 2, 8, 16]\n",
    "    Returns:\n",
    "    parameters -- a dictionary of tensors containing W1, W2\n",
    "    \"\"\"\n",
    "    \n",
    "    tf.set_random_seed(1)                              # so that your \"random\" numbers match ours\n",
    "        \n",
    "    ### START CODE HERE ### (approx. 2 lines of code)\n",
    "    W1 = tf.get_variable(\"W1\", [2, 2, 1, 64], initializer = tf.contrib.layers.xavier_initializer(seed = 0))\n",
    "    W2 = tf.get_variable(\"W2\", [2, 2, 64, 32], initializer = tf.contrib.layers.xavier_initializer(seed = 0))\n",
    "    ### END CODE HERE ###\n",
    "\n",
    "    parameters = {\"W1\": W1,\n",
    "                  \"W2\": W2}\n",
    "    \n",
    "    return parameters"
   ]
  },
  {
   "cell_type": "code",
   "execution_count": 14,
   "metadata": {
    "collapsed": true
   },
   "outputs": [],
   "source": [
    "def forward_propagation(X, parameters):\n",
    "    \"\"\"\n",
    "    Implements the forward propagation for the model:\n",
    "    CONV2D -> RELU -> MAXPOOL -> CONV2D -> RELU -> MAXPOOL -> FLATTEN -> FULLYCONNECTED\n",
    "    \n",
    "    Arguments:\n",
    "    X -- input dataset placeholder, of shape (input size, number of examples)\n",
    "\n",
    "    Returns:\n",
    "    Z3 -- the output of the last LINEAR unit\n",
    "    \"\"\"\n",
    "    \n",
    "    W1 = parameters['W1']\n",
    "    W2 = parameters['W2']\n",
    "    ### START CODE HERE ###\n",
    "    # CONV2D: stride of 1, padding 'SAME'\n",
    "    Z1 = tf.nn.conv2d(X, W1, strides = [1,1,1,1], padding = 'SAME')\n",
    "    # RELU\n",
    "    A1 = tf.nn.relu(Z1)\n",
    "    # MAXPOOL: window 2x2, sride 2, padding 'SAME'\n",
    "    P1 = tf.nn.max_pool(A1, ksize = [1,2,2,1], strides = [1,2,2,1], padding = 'SAME')\n",
    "    # CONV2D: filters W2, stride 1, padding 'SAME'\n",
    "    Z2 = tf.nn.conv2d(P1,W2, strides = [1,1,1,1], padding = 'SAME')\n",
    "    # RELU\n",
    "    A2 = tf.nn.relu(Z2)\n",
    "    # MAXPOOL: window 4x4, stride 4, padding 'SAME'\n",
    "    P2 = tf.nn.max_pool(A2, ksize = [1,4,4,1], strides = [1,4,4,1], padding = 'SAME')\n",
    "    # FLATTEN\n",
    "    P2 = tf.contrib.layers.flatten(P2)\n",
    "    # FULLY-CONNECTED without non-linear activation function (not not call softmax).\n",
    "    # 6 neurons in output layer. Hint: one of the arguments should be \"activation_fn=None\" \n",
    "    Z3 = tf.contrib.layers.fully_connected(P2, 10, activation_fn=None)\n",
    "    ### END CODE HERE ###\n",
    "\n",
    "    return Z3"
   ]
  },
  {
   "cell_type": "code",
   "execution_count": 15,
   "metadata": {},
   "outputs": [
    {
     "name": "stdout",
     "output_type": "stream",
     "text": [
      "WARNING:tensorflow:From /Users/mayoudong/anaconda/lib/python3.6/site-packages/tensorflow/contrib/learn/python/learn/datasets/base.py:198: retry (from tensorflow.contrib.learn.python.learn.datasets.base) is deprecated and will be removed in a future version.\n",
      "Instructions for updating:\n",
      "Use the retry module or similar alternatives.\n",
      "Z3 = [[-2.95381606e-01 -1.33380592e-01  8.28727037e-02  1.11530475e-01\n",
      "  -1.84369385e-01  5.50556600e-01  2.30872363e-01 -2.63106585e-01\n",
      "  -3.67124557e-01  7.88095236e-01]\n",
      " [-4.94067729e-01 -4.30047452e-01  3.00986975e-01  3.17465574e-01\n",
      "  -4.72305715e-03  6.93154335e-01  4.03803170e-01 -3.96817207e-01\n",
      "  -3.59707117e-01  9.98992205e-01]\n",
      " [-4.91121352e-01 -3.78952146e-01  2.87462056e-01  3.25285792e-01\n",
      "  -1.70666009e-01  6.64070189e-01  2.19495118e-01 -4.62387264e-01\n",
      "  -4.28186834e-01  1.07820320e+00]\n",
      " [-4.68824446e-01 -1.64853394e-01  2.48072758e-01 -3.37566733e-02\n",
      "   1.85005262e-01  4.50434804e-01  3.56077939e-01 -4.10047054e-01\n",
      "  -5.05523086e-01  9.59427178e-01]\n",
      " [-6.65638864e-01 -3.85234624e-01  1.67202920e-01  3.16417724e-01\n",
      "  -1.69148460e-01  6.76061869e-01  3.76885474e-01 -4.40766275e-01\n",
      "  -4.42266434e-01  1.07388473e+00]\n",
      " [-3.66156518e-01 -1.07049979e-02  5.51383682e-02  1.64832920e-01\n",
      "   6.11880049e-02  6.85495019e-01  5.68753123e-01 -4.15991485e-01\n",
      "  -5.45068860e-01  1.18537354e+00]\n",
      " [-6.63473964e-01 -4.19646442e-01  2.15939909e-01  1.17016211e-01\n",
      "  -1.18527517e-01  5.70259094e-01  4.40979153e-01 -3.31467062e-01\n",
      "  -5.91697991e-01  9.49834049e-01]\n",
      " [-4.99660015e-01 -2.34863758e-01  4.00051400e-02 -1.34762749e-02\n",
      "  -1.11655854e-01  5.57489276e-01  2.91408420e-01 -4.53709841e-01\n",
      "  -5.43005168e-01  9.27102864e-01]\n",
      " [-5.84624171e-01 -3.97541434e-01  3.30365092e-01  2.92118043e-01\n",
      "  -1.41750917e-01  5.31984448e-01  2.78993636e-01 -3.04267555e-01\n",
      "  -2.85105556e-01  9.46288526e-01]\n",
      " [-7.20376849e-01 -2.79705346e-01  2.64440596e-01  1.60264447e-02\n",
      "  -2.19397023e-01  6.77766442e-01  4.37890530e-01 -3.88643205e-01\n",
      "  -7.06503272e-01  9.18935955e-01]\n",
      " [-5.96849918e-01 -3.02565932e-01  5.18210605e-02  2.34653130e-01\n",
      "   4.27546576e-02  5.88984251e-01  2.46872574e-01 -3.05825233e-01\n",
      "  -4.85340685e-01  8.37245703e-01]\n",
      " [-4.80271220e-01 -1.61424518e-01  2.99906313e-01  5.09169549e-02\n",
      "  -4.61609401e-02  4.59340632e-01  3.77964437e-01 -4.38383877e-01\n",
      "  -2.51073062e-01  9.49971795e-01]\n",
      " [-4.87877250e-01 -4.06100512e-01  1.90129519e-01  1.30521134e-03\n",
      "  -8.19355696e-02  4.89003003e-01  5.40517330e-01 -3.49000335e-01\n",
      "  -3.79587740e-01  7.26149082e-01]\n",
      " [-5.75924158e-01 -4.83553618e-01  3.08517098e-01  8.90929326e-02\n",
      "  -1.71910793e-01  6.30641520e-01  4.08584923e-01 -5.77809453e-01\n",
      "  -4.41968292e-01  8.43046069e-01]\n",
      " [-5.27174532e-01 -3.09701234e-01  3.46650720e-01  2.15209648e-02\n",
      "  -2.76105665e-02  5.47278583e-01  3.32790911e-01 -4.94194418e-01\n",
      "  -5.53211927e-01  1.00504351e+00]\n",
      " [-4.59174454e-01 -2.83207268e-01  2.08902717e-01  1.06870100e-01\n",
      "  -4.90210950e-02  5.43451071e-01  5.24430394e-01 -4.49434757e-01\n",
      "  -3.70035291e-01  9.03536797e-01]\n",
      " [-5.71087122e-01 -1.78719595e-01  7.43187964e-03 -5.02441376e-02\n",
      "  -1.28011137e-01  5.66439092e-01  4.68802154e-01 -4.75807339e-01\n",
      "  -5.15063882e-01  7.34907269e-01]\n",
      " [-4.57760632e-01 -3.99034768e-01 -5.57326972e-02  1.93016142e-01\n",
      "   7.02357069e-02  5.83684921e-01  3.47733587e-01 -4.30424035e-01\n",
      "  -2.43192688e-01  9.33803022e-01]\n",
      " [-4.93945360e-01 -4.57278728e-01  2.88589001e-01  9.08519551e-02\n",
      "   3.43251489e-02  4.79023874e-01  3.18941504e-01 -3.53715479e-01\n",
      "  -2.37593055e-01  8.52498531e-01]\n",
      " [-3.97527188e-01 -3.77195060e-01  3.47909629e-01  1.55329719e-01\n",
      "  -1.63749874e-01  6.08177423e-01  3.31508130e-01 -5.23366332e-01\n",
      "  -3.81555200e-01  1.02846396e+00]\n",
      " [-6.18781745e-01 -2.06797659e-01  1.29765999e-02 -1.14286095e-02\n",
      "   6.34959266e-02  5.97231567e-01  4.23893273e-01 -4.17370975e-01\n",
      "  -3.86381358e-01  9.15372193e-01]\n",
      " [-5.72172642e-01 -4.75928187e-01  1.12472177e-01  2.43506014e-01\n",
      "  -7.06274062e-02  6.63893878e-01  5.03830016e-01 -3.46955776e-01\n",
      "  -2.40984976e-01  8.54001164e-01]\n",
      " [-4.84464824e-01 -4.02495742e-01  3.43254358e-02  3.32796201e-02\n",
      "  -1.57659441e-01  6.93927348e-01  5.11588991e-01 -4.97770429e-01\n",
      "  -4.91715699e-01  9.03725386e-01]\n",
      " [-4.42329824e-01 -2.31991559e-01  1.19630285e-01 -1.29048377e-02\n",
      "  -2.30455101e-02  5.42564869e-01  4.22957391e-01 -3.64475727e-01\n",
      "  -3.70286822e-01  8.42396498e-01]\n",
      " [-5.08290410e-01 -3.20553541e-01  3.07433248e-01  1.61539003e-01\n",
      "   3.13285515e-02  6.56817913e-01  3.80713969e-01 -2.38824546e-01\n",
      "  -4.00403261e-01  9.24021184e-01]\n",
      " [-5.23862720e-01 -3.98899168e-01  2.18096167e-01  4.19012681e-02\n",
      "  -5.29423021e-02  6.46238387e-01  6.14840090e-01 -2.33651996e-01\n",
      "  -4.38368738e-01  1.01780868e+00]\n",
      " [-4.92734730e-01 -2.89580673e-01  1.95945874e-01 -8.27020481e-02\n",
      "  -1.13403007e-01  4.71429169e-01  3.15854847e-01 -4.14514899e-01\n",
      "  -4.86513376e-01  8.27021897e-01]\n",
      " [-4.18086588e-01 -4.10536349e-01  1.44656673e-01  2.07552463e-02\n",
      "   1.79369822e-02  6.92693472e-01  4.17450845e-01 -5.10235548e-01\n",
      "  -4.41221237e-01  1.05730605e+00]\n",
      " [-8.16573739e-01 -3.73188436e-01  4.45147395e-01  1.45605505e-02\n",
      "  -1.55255556e-01  5.65863132e-01  2.87919343e-01 -6.31711960e-01\n",
      "  -4.92633134e-01  7.92441666e-01]\n",
      " [-4.75034803e-01 -3.45272481e-01  2.64921963e-01  1.64017275e-01\n",
      "  -1.31270379e-01  5.21947622e-01  3.97524923e-01 -2.17888817e-01\n",
      "  -3.59008729e-01  1.05792212e+00]\n",
      " [-5.72985768e-01 -2.86291271e-01  2.31057048e-01  1.73179165e-01\n",
      "  -1.12310313e-02  5.94264030e-01  4.46473062e-01 -3.61958444e-01\n",
      "  -4.57115680e-01  8.17892730e-01]\n",
      " [-5.86368084e-01 -3.20936888e-01  1.33436918e-01  3.58874679e-01\n",
      "   6.10209107e-02  5.67488909e-01  5.75873613e-01 -3.10088158e-01\n",
      "  -3.60215873e-01  9.48975384e-01]\n",
      " [-4.80891794e-01 -3.76010776e-01  2.82424629e-01 -1.00392535e-01\n",
      "  -1.03654206e-01  5.46822667e-01  4.04008031e-01 -4.76856798e-01\n",
      "  -4.94122088e-01  8.73357534e-01]\n",
      " [-5.56882381e-01 -2.61626780e-01  1.39705330e-01  1.96740925e-02\n",
      "   1.73440669e-03  5.47134340e-01  2.70077467e-01 -4.90582228e-01\n",
      "  -2.41116822e-01  1.06668949e+00]\n",
      " [-4.57488418e-01 -2.76921451e-01  3.27225849e-02  1.82893276e-02\n",
      "   3.04645672e-02  5.40475249e-01  4.62597251e-01 -4.62178171e-01\n",
      "  -5.60097933e-01  1.02757072e+00]\n",
      " [-4.94329810e-01 -4.48305130e-01  2.64662385e-01  1.57371581e-01\n",
      "   6.52173441e-03  5.86986721e-01  4.70528752e-01 -4.60510731e-01\n",
      "  -4.07276899e-01  9.79167461e-01]\n",
      " [-5.71747661e-01 -2.82945663e-01  9.37061384e-02  6.73426464e-02\n",
      "  -6.72518611e-02  6.32733524e-01  3.08650285e-01 -4.49103773e-01\n",
      "  -3.55984271e-01  8.98126841e-01]\n",
      " [-3.72767866e-01 -3.91436219e-01  2.98321426e-01  2.47955799e-01\n",
      "  -1.29181564e-01  5.81409872e-01  4.87136245e-01 -3.21588814e-01\n",
      "  -1.89023137e-01  9.61448550e-01]\n",
      " [-7.23668575e-01 -3.75274688e-01  2.88361490e-01  1.91110037e-02\n",
      "  -4.79895361e-02  7.17390716e-01  6.00768387e-01 -4.94233906e-01\n",
      "  -4.82263476e-01  8.85441422e-01]\n",
      " [-6.93560779e-01 -6.17758870e-01  2.76152194e-01  1.26587510e-01\n",
      "  -1.09769776e-03  6.83236182e-01  2.70719767e-01 -4.31112826e-01\n",
      "  -3.34292620e-01  8.65461648e-01]]\n"
     ]
    }
   ],
   "source": [
    "tf.reset_default_graph()\n",
    "\n",
    "with tf.Session() as sess:\n",
    "    np.random.seed(1)\n",
    "    X, Y = create_placeholders(28, 28, 1, 10)\n",
    "    parameters = initialize_parameters()\n",
    "    Z3 = forward_propagation(X, parameters)\n",
    "    init = tf.global_variables_initializer()\n",
    "    sess.run(init)\n",
    "    a = sess.run(Z3, {X: np.random.randn(40,28,28,1), Y: np.random.randn(40,10)})\n",
    "    print(\"Z3 = \" + str(a))"
   ]
  },
  {
   "cell_type": "code",
   "execution_count": 16,
   "metadata": {
    "collapsed": true
   },
   "outputs": [],
   "source": [
    "def compute_cost(Z3, Y):\n",
    "    \"\"\"\n",
    "    Computes the cost\n",
    "    \n",
    "    Arguments:\n",
    "    Z3 -- output of forward propagation (output of the last LINEAR unit), of shape (6, number of examples)\n",
    "    Y -- \"true\" labels vector placeholder, same shape as Z3\n",
    "    \n",
    "    Returns:\n",
    "    cost - Tensor of the cost function\n",
    "    \"\"\"\n",
    "    \n",
    "    ### START CODE HERE ### (1 line of code)\n",
    "    cost = tf.reduce_mean(tf.nn.softmax_cross_entropy_with_logits(logits = Z3, labels = Y))\n",
    "    ### END CODE HERE ###\n",
    "    \n",
    "    return cost"
   ]
  },
  {
   "cell_type": "code",
   "execution_count": 17,
   "metadata": {
    "collapsed": true
   },
   "outputs": [],
   "source": [
    "def random_mini_batches(X, Y, mini_batch_size = 64, seed = 0):\n",
    "    \"\"\"\n",
    "    Creates a list of random minibatches from (X, Y)\n",
    "    \n",
    "    Arguments:\n",
    "    X -- input data, of shape (input size, number of examples)\n",
    "    Y -- true \"label\" vector (containing 0 if cat, 1 if non-cat), of shape (1, number of examples)\n",
    "    mini_batch_size - size of the mini-batches, integer\n",
    "    seed -- this is only for the purpose of grading, so that you're \"random minibatches are the same as ours.\n",
    "    \n",
    "    Returns:\n",
    "    mini_batches -- list of synchronous (mini_batch_X, mini_batch_Y)\n",
    "    \"\"\"\n",
    "    \n",
    "    m = X.shape[0]                  # number of training examples\n",
    "    mini_batches = []\n",
    "    np.random.seed(seed)\n",
    "    \n",
    "    # Step 1: Shuffle (X, Y)\n",
    "    permutation = list(np.random.permutation(m))\n",
    "    shuffled_X = X[permutation, :, :, :]\n",
    "    shuffled_Y = Y[permutation, :].reshape((m, Y.shape[1]))\n",
    "\n",
    "    # Step 2: Partition (shuffled_X, shuffled_Y). Minus the end case.\n",
    "    num_complete_minibatches = int(m / mini_batch_size) # number of mini batches of size mini_batch_size in your partitionning\n",
    "    for k in range(0, num_complete_minibatches):\n",
    "        mini_batch_X = shuffled_X[k * mini_batch_size : k * mini_batch_size + mini_batch_size, :, :, :]\n",
    "        mini_batch_Y = shuffled_Y[k * mini_batch_size : k * mini_batch_size + mini_batch_size, :]\n",
    "        mini_batch = (mini_batch_X, mini_batch_Y)\n",
    "        mini_batches.append(mini_batch)\n",
    "    \n",
    "    # Handling the end case (last mini-batch < mini_batch_size)\n",
    "    if m % mini_batch_size != 0:\n",
    "        mini_batch_X = shuffled_X[num_complete_minibatches * mini_batch_size : m, :, :, :]\n",
    "        mini_batch_Y = shuffled_Y[num_complete_minibatches * mini_batch_size : m, :]\n",
    "        mini_batch = (mini_batch_X, mini_batch_Y)\n",
    "        mini_batches.append(mini_batch)\n",
    "    \n",
    "    return mini_batches"
   ]
  },
  {
   "cell_type": "code",
   "execution_count": 18,
   "metadata": {},
   "outputs": [
    {
     "name": "stdout",
     "output_type": "stream",
     "text": [
      "(420, 28, 28, 1)\n",
      "(420, 10)\n"
     ]
    }
   ],
   "source": [
    "X_train1 = X_train[0:420, :, :, :]\n",
    "Y_train1 = Y_train[0:420, :]\n",
    "\n",
    "print(X_train1.shape)\n",
    "print(Y_train1.shape)"
   ]
  },
  {
   "cell_type": "code",
   "execution_count": 19,
   "metadata": {
    "collapsed": true
   },
   "outputs": [],
   "source": [
    "# GRADED FUNCTION: model\n",
    "\n",
    "def model(X_train, Y_train, learning_rate = 0.009,\n",
    "          num_epochs = 100, minibatch_size = 42, print_cost = True):\n",
    "    #ops.reset_default_graph()                         # to be able to rerun the model without overwriting tf variables\n",
    "    tf.set_random_seed(1)                             # to keep results consistent (numpy seed)\n",
    "    (m, n_H0, n_W0, n_C0) = X_train.shape  \n",
    "    n_y = Y_train.shape[1]                            \n",
    "    costs = [] \n",
    "    tf.reset_default_graph()\n",
    "    X, Y = create_placeholders(n_H0, n_W0, n_C0, n_y)\n",
    "    parameters = initialize_parameters()\n",
    "    Z3 = forward_propagation(X, parameters)\n",
    "    cost = compute_cost(Z3, Y)\n",
    "    optimizer = tf.train.AdamOptimizer(learning_rate=learning_rate).minimize(cost)\n",
    "    init = tf.global_variables_initializer()\n",
    "    \n",
    "    with tf.Session() as sess:\n",
    "        sess.run(init)\n",
    "        for epoch in range(num_epochs):\n",
    "            minibatch_cost = 0.\n",
    "            num_minibatches = int(m / minibatch_size) # number of minibatches of size minibatch_size in the train set\n",
    "            minibatches = random_mini_batches(X_train, Y_train, minibatch_size, seed = 0)\n",
    "            \n",
    "            for minibatch in minibatches:\n",
    "\n",
    "                # Select a minibatch\n",
    "                (minibatch_X, minibatch_Y) = minibatch\n",
    "                # IMPORTANT: The line that runs the graph on a minibatch.\n",
    "                # Run the session to execute the optimizer and the cost, the feedict should contain a minibatch for (X,Y).\n",
    "                ### START CODE HERE ### (1 line)\n",
    "                _ , temp_cost = sess.run([optimizer, cost], feed_dict={X:minibatch_X, Y:minibatch_Y})\n",
    "                ### END CODE HERE ###\n",
    "                \n",
    "                minibatch_cost += temp_cost / num_minibatches\n",
    "            if print_cost == True and epoch % 5 == 0:\n",
    "                print (\"Cost after epoch %i: %f\" % (epoch, minibatch_cost))\n",
    "            if print_cost == True and epoch % 1 == 0:\n",
    "                costs.append(minibatch_cost)\n",
    "        # plot the cost\n",
    "        plt.plot(np.squeeze(costs))\n",
    "        plt.ylabel('cost')\n",
    "        plt.xlabel('iterations (per tens)')\n",
    "        plt.title(\"Learning rate =\" + str(learning_rate))\n",
    "        plt.show()\n",
    "\n",
    "        # Calculate the correct predictions\n",
    "        predict_op = tf.argmax(Z3, 1)\n",
    "        correct_prediction = tf.equal(predict_op, tf.argmax(Y, 1))\n",
    "\n",
    "        # Calculate accuracy on the test set\n",
    "        accuracy = tf.reduce_mean(tf.cast(correct_prediction, \"float\"))\n",
    "        print(accuracy)\n",
    "        train_accuracy = accuracy.eval({X: X_train, Y: Y_train})\n",
    "        print(\"Train Accuracy:\", train_accuracy)\n",
    "\n",
    "        return train_accuracy, parameters"
   ]
  },
  {
   "cell_type": "code",
   "execution_count": 20,
   "metadata": {},
   "outputs": [
    {
     "name": "stdout",
     "output_type": "stream",
     "text": [
      "42000\n",
      "28\n",
      "28\n",
      "1\n",
      "(42000, 10)\n",
      "42000\n"
     ]
    }
   ],
   "source": [
    "(m, n_H0, n_W0, n_C0) = X_train.shape \n",
    "print(m)\n",
    "print(n_H0)\n",
    "print(n_W0)\n",
    "print(n_C0)\n",
    "print(Y_train.shape)\n",
    "print(X_train.shape[0])"
   ]
  },
  {
   "cell_type": "code",
   "execution_count": 21,
   "metadata": {},
   "outputs": [
    {
     "name": "stdout",
     "output_type": "stream",
     "text": [
      "WARNING:tensorflow:From <ipython-input-16-c0917cab9562>:14: softmax_cross_entropy_with_logits (from tensorflow.python.ops.nn_ops) is deprecated and will be removed in a future version.\n",
      "Instructions for updating:\n",
      "\n",
      "Future major versions of TensorFlow will allow gradients to flow\n",
      "into the labels input on backprop by default.\n",
      "\n",
      "See tf.nn.softmax_cross_entropy_with_logits_v2.\n",
      "\n",
      "Cost after epoch 0: 0.194994\n",
      "Cost after epoch 5: 0.048221\n",
      "Cost after epoch 10: 0.040885\n",
      "Cost after epoch 15: 0.032000\n",
      "Cost after epoch 20: 0.032188\n",
      "Cost after epoch 25: 0.030329\n",
      "Cost after epoch 30: 0.035133\n",
      "Cost after epoch 35: 0.033873\n",
      "Cost after epoch 40: 0.034559\n",
      "Cost after epoch 45: 0.027537\n",
      "Cost after epoch 50: 0.033852\n",
      "Cost after epoch 55: 0.029681\n",
      "Cost after epoch 60: 0.034297\n",
      "Cost after epoch 65: 0.031924\n",
      "Cost after epoch 70: 0.031685\n",
      "Cost after epoch 75: 0.037642\n",
      "Cost after epoch 80: 0.036505\n",
      "Cost after epoch 85: 0.042904\n",
      "Cost after epoch 90: 0.035163\n",
      "Cost after epoch 95: 0.034165\n"
     ]
    },
    {
     "data": {
      "image/png": "[encoded data removed]",
      "text/plain": [
       "<matplotlib.figure.Figure at 0x12331ceb8>"
      ]
     },
     "metadata": {},
     "output_type": "display_data"
    },
    {
     "name": "stdout",
     "output_type": "stream",
     "text": [
      "Tensor(\"Mean_1:0\", shape=(), dtype=float32)\n",
      "Train Accuracy: 0.99364287\n"
     ]
    }
   ],
   "source": [
    "_, parameters = model(X_train, Y_train)"
   ]
  },
  {
   "cell_type": "code",
   "execution_count": 23,
   "metadata": {
    "collapsed": true
   },
   "outputs": [],
   "source": [
    "Xt = Xt / 255.0"
   ]
  },
  {
   "cell_type": "code",
   "execution_count": null,
   "metadata": {},
   "outputs": [],
   "source": [
    "with tf.Session() as sess:\n",
    "    np.random.seed(1)\n",
    "    X, Y = create_placeholders(28, 28, 1, 10)\n",
    "    Z3 = forward_propagation(X, parameters)\n",
    "    predict_op = tf.argmax(Z3, 1)\n",
    "    init = tf.global_variables_initializer()\n",
    "    sess.run(init)\n",
    "    a = sess.run(Z3, {X: X_train})\n",
    "    predict_op = tf.argmax(a, 1)\n",
    "    print(\"Z3 = \" + str(a))\n",
    "    print(predict_op)"
   ]
  },
  {
   "cell_type": "code",
   "execution_count": 29,
   "metadata": {},
   "outputs": [
    {
     "data": {
      "text/plain": [
       "array([ 0.11675152,  0.19961624,  0.09295087, -0.08638673,  0.20826219,\n",
       "       -0.16783495, -0.00830214, -0.02932167, -0.24806647, -0.03208058],\n",
       "      dtype=float32)"
      ]
     },
     "execution_count": 29,
     "metadata": {},
     "output_type": "execute_result"
    }
   ],
   "source": [
    "a[1]"
   ]
  },
  {
   "cell_type": "code",
   "execution_count": 30,
   "metadata": {},
   "outputs": [
    {
     "data": {
      "text/plain": [
       "array([ 0.1063951 ,  0.04023427,  0.02703441, -0.12161183,  0.18747869,\n",
       "       -0.14481747, -0.00410093, -0.10301025, -0.10644187,  0.00539514],\n",
       "      dtype=float32)"
      ]
     },
     "execution_count": 30,
     "metadata": {},
     "output_type": "execute_result"
    }
   ],
   "source": [
    "a[2]"
   ]
  },
  {
   "cell_type": "code",
   "execution_count": 31,
   "metadata": {},
   "outputs": [
    {
     "data": {
      "text/plain": [
       "array([1., 0., 0., 0., 0., 0., 0., 0., 0., 0.])"
      ]
     },
     "execution_count": 31,
     "metadata": {},
     "output_type": "execute_result"
    }
   ],
   "source": [
    "Y_train[1]"
   ]
  },
  {
   "cell_type": "code",
   "execution_count": 32,
   "metadata": {},
   "outputs": [
    {
     "data": {
      "text/plain": [
       "array([0., 1., 0., 0., 0., 0., 0., 0., 0., 0.])"
      ]
     },
     "execution_count": 32,
     "metadata": {},
     "output_type": "execute_result"
    }
   ],
   "source": [
    "Y_train[2]"
   ]
  },
  {
   "cell_type": "code",
   "execution_count": null,
   "metadata": {
    "collapsed": true
   },
   "outputs": [],
   "source": []
  }
 ],
 "metadata": {
  "kernelspec": {
   "display_name": "Python 3",
   "language": "python",
   "name": "python3"
  }
 },
 "nbformat": 4,
 "nbformat_minor": 2
}
